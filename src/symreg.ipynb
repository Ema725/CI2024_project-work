{
 "cells": [
  {
   "cell_type": "markdown",
   "metadata": {},
   "source": [
    "Copyright **`(c)`** 2024 Giovanni Squillero `<giovanni.squillero@polito.it>`  \n",
    "[`https://github.com/squillero/computational-intelligence`](https://github.com/squillero/computational-intelligence)  \n",
    "Free under certain conditions — see the [`license`](https://github.com/squillero/computational-intelligence/blob/master/LICENSE.md) for details.  "
   ]
  },
  {
   "cell_type": "markdown",
   "metadata": {},
   "source": [
    "## Import"
   ]
  },
  {
   "cell_type": "code",
   "execution_count": 2,
   "metadata": {},
   "outputs": [],
   "source": [
    "import numpy as np\n",
    "import random\n",
    "from copy import deepcopy\n",
    "from icecream import ic\n",
    "from tqdm.auto import tqdm\n",
    "import importlib\n",
    "from gxgp import gp_common\n",
    "importlib.reload(gp_common)\n",
    "import gxgp.node as node_mod\n",
    "importlib.reload(node_mod)\n",
    "from gxgp.node import Node"
   ]
  },
  {
   "cell_type": "markdown",
   "metadata": {},
   "source": [
    "## Data preparation"
   ]
  },
  {
   "cell_type": "code",
   "execution_count": 4,
   "metadata": {},
   "outputs": [
    {
     "data": {
      "text/plain": [
       "{'x[0]', 'x[1]', 'x[2]', 'x[3]', 'x[4]', 'x[5]'}"
      ]
     },
     "execution_count": 4,
     "metadata": {},
     "output_type": "execute_result"
    }
   ],
   "source": [
    "#choose the problem here\n",
    "PROBLEM_NAME = 'problem_8.npz'\n",
    "\n",
    "#estract the data\n",
    "problem = np.load(PROBLEM_NAME)\n",
    "x = problem['x']\n",
    "y = problem['y']\n",
    "\n",
    "#number of inputs\n",
    "NUM_INPUT = x.shape[0]\n",
    "\n",
    "terminals_set = set()\n",
    "\n",
    "for i in range(NUM_INPUT):\n",
    "    string = 'x' + '[' + str(i) + ']'\n",
    "    terminals_set.add(string)\n",
    "\n",
    "terminals_set\n"
   ]
  },
  {
   "cell_type": "markdown",
   "metadata": {},
   "source": [
    "## Data structures"
   ]
  },
  {
   "cell_type": "code",
   "execution_count": 3,
   "metadata": {},
   "outputs": [],
   "source": [
    "#safe division: returns a/b if b is different from 0, 1.0 otherwise\n",
    "def safe_divide(a, b):\n",
    "    return np.where(np.abs(b) > 1e-6, np.divide(a, b), 1.0)\n",
    "\n",
    "#safe log: returns log(x) if x is different from 0, 1e-6 otherwise\n",
    "def safe_log(x):\n",
    "    x_safe = np.where(x <= 1e-6, 1e-6, x)\n",
    "    return np.log(np.abs(x_safe))\n",
    "\n",
    "def safe_sqrt(x):\n",
    "    return np.sqrt(np.abs(x))\n",
    "\n",
    "def safe_reciprocal(x: np.ndarray) -> np.ndarray:\n",
    "    x = np.asarray(x)  # Assicura che x sia un array numpy\n",
    "    return np.where(x == 0, 0, np.reciprocal(x))\n",
    "\n",
    "#set of arithmetic functions\n",
    "arithmetic_set = [np.add, np.subtract, np.multiply, safe_divide]\n",
    "\n",
    "#set of unary functions\n",
    "unary_set = [np.sin, np.cos, np.abs, safe_log, safe_sqrt, safe_reciprocal]\n",
    "\n",
    "\n"
   ]
  },
  {
   "cell_type": "markdown",
   "metadata": {},
   "source": [
    "## functions "
   ]
  },
  {
   "cell_type": "code",
   "execution_count": null,
   "metadata": {},
   "outputs": [],
   "source": [
    "#builds a lambda function from a string\n",
    "def build_function(expr: str):\n",
    "    ns = {'np': np, 'safe_log': safe_log,'safe_sqrt': safe_sqrt, 'safe_divide': safe_divide, 'safe_reciprocal': safe_reciprocal}\n",
    "    return eval('lambda x: ' + expr, ns)\n",
    "\n",
    "#fitness function used was -mse\n",
    "def fitness_function(y_true, x, tree):\n",
    "    funz = str(tree)\n",
    "    func = build_function(funz)\n",
    "    #penality on fitness for invalid values\n",
    "    if np.any(np.isnan(func(x))) or np.any(np.isinf(func(x))):\n",
    "        return -1e12  \n",
    "    fitness = -100*np.square(y_true-func(x)).sum()/len(y_true)\n",
    "    return fitness\n",
    "\n",
    "#generates a random tree\n",
    "def generate_random_tree(max_depth: int) -> Node:\n",
    "\n",
    "    if max_depth == 0 or random.random() < 0.3:\n",
    "        if random.random() < 0.6:\n",
    "            term = random.choice(list(terminals_set))\n",
    "        else:\n",
    "            term = random.uniform(-100, 100)\n",
    "        return Node(term)\n",
    "    else:\n",
    "        if random.random() < 0.5:\n",
    "            # choose an unary function\n",
    "            func = random.choice(list(unary_set))\n",
    "            # Recursively it generates a subtree\n",
    "            child = generate_random_tree(max_depth - 1)\n",
    "            return Node(func, [child])\n",
    "        else:\n",
    "            # choose a random arithmetic function\n",
    "            func = random.choice(list(arithmetic_set))\n",
    "            left = generate_random_tree(max_depth - 1)\n",
    "            right = generate_random_tree(max_depth - 1)\n",
    "            return Node(func, [left, right])\n",
    "\n",
    "#replace subtree\n",
    "def replace_subtree(current: Node, target: Node, new_subtree: Node) -> bool:\n",
    "    #list of successors of the current node\n",
    "    children = current.successors  \n",
    "    for i, child in enumerate(children):\n",
    "        if child is target:\n",
    "            # replace the children with the new subtree\n",
    "            children[i] = new_subtree\n",
    "            current.successors = children  \n",
    "            return True\n",
    "        else:\n",
    "            if replace_subtree(child, target, new_subtree):\n",
    "                return True\n",
    "    return False\n",
    "\n",
    "def sub_tree_mutation(individual: Node) -> Node:\n",
    "  \n",
    "    mutated = deepcopy(individual)\n",
    "    \n",
    "    nodes = list(mutated.subtree)\n",
    "    \n",
    "    if not nodes:\n",
    "        return mutated\n",
    "    \n",
    "    target = random.choice(nodes)\n",
    "    new_subtree = generate_random_tree(2)\n",
    "    replaced = replace_subtree(mutated, target, new_subtree)\n",
    "    \n",
    "    return mutated\n",
    "\n",
    "def point_mutation(individual: Node) -> Node:\n",
    "\n",
    "    mutated = deepcopy(individual)\n",
    "    \n",
    "    nodes = list(mutated.subtree)\n",
    "    \n",
    "    if not nodes:\n",
    "        return mutated\n",
    "    \n",
    "    target = random.choice(nodes)\n",
    "    \n",
    "    if len(target._successors) == 2:\n",
    "        new_func = random.choice(list(arithmetic_set))\n",
    "        target._func = lambda *args, **kwargs: new_func(*args, **kwargs)\n",
    "        target._arity = 2\n",
    "        #differentiate between numpy functions and custom functions\n",
    "        if hasattr(np, new_func.__name__) and getattr(np, new_func.__name__) is new_func:\n",
    "            target._str = f'np.{new_func.__name__}'\n",
    "        else:\n",
    "            target._str = new_func.__name__\n",
    "    elif len(target._successors) == 1:\n",
    "        new_func = random.choice(list(unary_set))\n",
    "        target._func = lambda *args, **kwargs: new_func(*args, **kwargs)\n",
    "        target._arity = 1\n",
    "        if hasattr(np, new_func.__name__) and getattr(np, new_func.__name__) is new_func:\n",
    "            target._str = f'np.{new_func.__name__}'\n",
    "        else:\n",
    "            target._str = new_func.__name__\n",
    "    elif len(target._successors) == 0:\n",
    "        try:\n",
    "            # Try to convert the terminal to a number, if the conversion fails, it is a variable (a string)\n",
    "            current_value = float(target._str)\n",
    "            new_value = current_value * random.random()\n",
    "            target._func = eval(f'lambda **_kw: {new_value}')\n",
    "            target._str = f'{new_value:g}'\n",
    "        except ValueError:\n",
    "            new_terminal = random.choice(list(terminals_set))\n",
    "            target._func = lambda **_kw: _kw[new_terminal]\n",
    "            target._str = new_terminal\n",
    "        target._arity = 0\n",
    "    else:\n",
    "        pass\n",
    "\n",
    "    return mutated\n",
    "\n",
    "def hoist_mutation(individual: Node) -> Node:\n",
    "    \n",
    "    nodes = list(individual.subtree)\n",
    "    \n",
    "    #removes the root from the node list\n",
    "    nodes.remove(individual)\n",
    "    \n",
    "    if not nodes:\n",
    "        return individual\n",
    "    \n",
    "    target = random.choice(nodes)\n",
    "    \n",
    "    return target\n",
    "\n",
    "class Individual:\n",
    "    def __init__(self, genome, fitness=0):\n",
    "        self.genome = genome\n",
    "        self.fitness = fitness \n",
    "\n",
    "def elitist_selection(population, elite_size=10):\n",
    "    elites = sorted(population, key=lambda x: x.fitness, reverse=True)[:elite_size]\n",
    "    return np.random.choice(elites)\n",
    "\n",
    "def tournament_selection(population, T=3):\n",
    "    selected = []\n",
    "    for _ in range(T):\n",
    "        selected.append(random.choice(population))\n",
    "    return max(selected, key=lambda x: x.fitness)\n"
   ]
  },
  {
   "cell_type": "markdown",
   "metadata": {},
   "source": [
    "## Finding the solution"
   ]
  },
  {
   "cell_type": "code",
   "execution_count": null,
   "metadata": {},
   "outputs": [],
   "source": [
    "#this cell is ran only the fist time, than the best individual is saved after every run of the algorithm\n",
    "genome = generate_random_tree(5)\n",
    "fitness = fitness_function(y, x, genome)\n",
    "#best is the all time best individual\n",
    "best = Individual(genome, fitness)\n",
    "#bestfitness is the fitness of the best individual in the population in the current generation\n",
    "bestfitness = fitness"
   ]
  },
  {
   "cell_type": "code",
   "execution_count": null,
   "metadata": {},
   "outputs": [],
   "source": [
    "POPULATION_SIZE = 120\n",
    "MAX_GENERATIONS = 10000\n",
    "TOURNAMENT_SIZE = 5\n",
    "MUTATION_RATE = 0.6\n",
    "OFFSPRING_SIZE = 20\n",
    "#if the best fitness doesn't change for MAX_COUNTER generations, the population is reinitialized or mutated\n",
    "MAX_COUNTER = 85\n",
    "#max length of the tree\n",
    "MAX_LEN = 200\n",
    "\n",
    "population = []\n",
    "population.append(best)\n",
    "\n",
    "\n",
    "#initialization\n",
    "for _ in range(0, POPULATION_SIZE):\n",
    "    tree = generate_random_tree(5)\n",
    "    fitness = fitness_function(y, x, tree)\n",
    "    guy = Individual(tree, fitness)\n",
    "    population.append(guy)\n",
    "\n",
    "best = max(population, key=lambda x: x.fitness)\n",
    "COUNTER = 0\n",
    "\n",
    "for generation in tqdm(range(MAX_GENERATIONS)):\n",
    "    offspring = list()\n",
    "    for _ in range(OFFSPRING_SIZE):\n",
    "        if random.random() < MUTATION_RATE:\n",
    "            parent = tournament_selection(population, TOURNAMENT_SIZE)\n",
    "            #point or subtree mutation are used with 90% probability\n",
    "            if random.random() < 0.9:\n",
    "                if random.random() < 0.5:\n",
    "                    child = point_mutation(parent.genome)\n",
    "                else:\n",
    "                    child = sub_tree_mutation(parent.genome)\n",
    "            else:\n",
    "                child = hoist_mutation(parent.genome)        \n",
    "        else:\n",
    "            parent1 = elitist_selection(population)\n",
    "            parent2 = tournament_selection(population, TOURNAMENT_SIZE)\n",
    "            if random.random() < 0.5:\n",
    "                child = gp_common.xover_swap_subtree(parent1.genome, parent2.genome)\n",
    "            else:\n",
    "                child = gp_common.xover_swap_subtree(parent2.genome, parent1.genome)\n",
    "\n",
    "        #contain the bloating\n",
    "            smallerchild = deepcopy(child)\n",
    "            while len(smallerchild) > MAX_LEN:\n",
    "                smallerchild = hoist_mutation(child)\n",
    "            fitness = fitness_function(y, x, smallerchild)\n",
    "            offspring.append(Individual(smallerchild, fitness)) \n",
    "            \n",
    "    population.extend(offspring)\n",
    "    population.sort(key=lambda i: i.fitness, reverse=True)\n",
    "    population = population[:POPULATION_SIZE]\n",
    "    if(best.fitness < population[0].fitness):\n",
    "        best = population[0]\n",
    "    if(bestfitness == population[0].fitness):\n",
    "        COUNTER = COUNTER + 1\n",
    "    else:\n",
    "        COUNTER = 0\n",
    "        bestfitness = population[0].fitness\n",
    "    if(COUNTER > MAX_COUNTER):  \n",
    "        if random.random() < 0.9:\n",
    "            for _ in range(0, POPULATION_SIZE):\n",
    "                if random.random() < 0.6:\n",
    "                    tree = sub_tree_mutation(population[_].genome)\n",
    "                else:\n",
    "                    tree = hoist_mutation(population[_].genome)\n",
    "                fitness = fitness_function(y, x, tree)\n",
    "                guy = Individual(tree, fitness)\n",
    "                population[_] = guy\n",
    "            population.sort(key=lambda i: i.fitness, reverse=True)\n",
    "        else:\n",
    "            population[0] = best\n",
    "            for _ in range(1, POPULATION_SIZE):\n",
    "                tree = generate_random_tree(5)\n",
    "                fitness = fitness_function(y, x, tree)\n",
    "                guy = Individual(tree, fitness)\n",
    "                population.append(guy)\n",
    "        COUNTER = 0\n",
    "\n",
    "print(best.genome)\n",
    "print(best.fitness)\n",
    "    \n",
    "    \n"
   ]
  },
  {
   "cell_type": "code",
   "execution_count": null,
   "metadata": {},
   "outputs": [],
   "source": [
    "best.fitness"
   ]
  },
  {
   "cell_type": "code",
   "execution_count": null,
   "metadata": {},
   "outputs": [],
   "source": [
    "str(best.genome)"
   ]
  },
  {
   "cell_type": "code",
   "execution_count": null,
   "metadata": {},
   "outputs": [],
   "source": [
    "len(best.genome)"
   ]
  },
  {
   "cell_type": "markdown",
   "metadata": {},
   "source": [
    "## Evaluation"
   ]
  },
  {
   "cell_type": "code",
   "execution_count": 1,
   "metadata": {},
   "outputs": [
    {
     "data": {
      "text/plain": [
       "<module 's334034' from 'c:\\\\Users\\\\emanu\\\\CI\\\\prova3\\\\s334034.py'>"
      ]
     },
     "execution_count": 1,
     "metadata": {},
     "output_type": "execute_result"
    }
   ],
   "source": [
    "import s334034\n",
    "import importlib\n",
    "importlib.reload(s334034)\n"
   ]
  },
  {
   "cell_type": "markdown",
   "metadata": {},
   "source": [
    "To set the y change the problem name in the \"Data preparation\" section"
   ]
  },
  {
   "cell_type": "code",
   "execution_count": null,
   "metadata": {},
   "outputs": [
    {
     "name": "stdout",
     "output_type": "stream",
     "text": [
      "MSE: 7.12594e-32\n"
     ]
    }
   ],
   "source": [
    "print(f\"MSE: {100*np.square(y-s334034.f1(x)).sum()/len(y):g}\")"
   ]
  },
  {
   "cell_type": "code",
   "execution_count": 12,
   "metadata": {},
   "outputs": [
    {
     "name": "stdout",
     "output_type": "stream",
     "text": [
      "MSE: 2.03839e+14\n"
     ]
    }
   ],
   "source": [
    "print(f\"MSE: {100*np.square(y-s334034.f2(x)).sum()/len(y):g}\")"
   ]
  },
  {
   "cell_type": "code",
   "execution_count": 15,
   "metadata": {},
   "outputs": [
    {
     "name": "stdout",
     "output_type": "stream",
     "text": [
      "MSE: 2697.29\n"
     ]
    }
   ],
   "source": [
    "print(f\"MSE: {100*np.square(y-s334034.f3(x)).sum()/len(y):g}\")"
   ]
  },
  {
   "cell_type": "code",
   "execution_count": 17,
   "metadata": {},
   "outputs": [
    {
     "name": "stdout",
     "output_type": "stream",
     "text": [
      "MSE: 4.74355\n"
     ]
    }
   ],
   "source": [
    "print(f\"MSE: {100*np.square(y-s334034.f4(x)).sum()/len(y):g}\")"
   ]
  },
  {
   "cell_type": "code",
   "execution_count": 19,
   "metadata": {},
   "outputs": [
    {
     "name": "stdout",
     "output_type": "stream",
     "text": [
      "MSE: 2.5606e-18\n"
     ]
    }
   ],
   "source": [
    "print(f\"MSE: {100*np.square(y-s334034.f5(x)).sum()/len(y):g}\")"
   ]
  },
  {
   "cell_type": "code",
   "execution_count": 21,
   "metadata": {},
   "outputs": [
    {
     "name": "stdout",
     "output_type": "stream",
     "text": [
      "MSE: 0.0087182\n"
     ]
    }
   ],
   "source": [
    "print(f\"MSE: {100*np.square(y-s334034.f6(x)).sum()/len(y):g}\")"
   ]
  },
  {
   "cell_type": "code",
   "execution_count": 23,
   "metadata": {},
   "outputs": [
    {
     "name": "stdout",
     "output_type": "stream",
     "text": [
      "MSE: 388.378\n"
     ]
    }
   ],
   "source": [
    "print(f\"MSE: {100*np.square(y-s334034.f7(x)).sum()/len(y):g}\")"
   ]
  },
  {
   "cell_type": "code",
   "execution_count": 5,
   "metadata": {},
   "outputs": [
    {
     "name": "stdout",
     "output_type": "stream",
     "text": [
      "MSE: 5.176e+07\n"
     ]
    }
   ],
   "source": [
    "print(f\"MSE: {100*np.square(y-s334034.f8(x)).sum()/len(y):g}\")"
   ]
  },
  {
   "cell_type": "markdown",
   "metadata": {},
   "source": []
  }
 ],
 "metadata": {
  "kernelspec": {
   "display_name": "venv",
   "language": "python",
   "name": "python3"
  },
  "language_info": {
   "codemirror_mode": {
    "name": "ipython",
    "version": 3
   },
   "file_extension": ".py",
   "mimetype": "text/x-python",
   "name": "python",
   "nbconvert_exporter": "python",
   "pygments_lexer": "ipython3",
   "version": "3.12.6"
  }
 },
 "nbformat": 4,
 "nbformat_minor": 2
}
